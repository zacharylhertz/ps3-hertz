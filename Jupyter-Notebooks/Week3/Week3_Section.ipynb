{
 "cells": [
  {
   "cell_type": "markdown",
   "metadata": {},
   "source": [
    "# POLSCI 3\n",
    "\n",
    "## Review Exercise: Variable Types and Function Anatomy\n",
    "\n",
    "In this review exercise, we'll first cover two important foundational concepts, then practice the skills you've learned so far using an expanded version of the police traffic stop dataset."
   ]
  },
  {
   "cell_type": "markdown",
   "metadata": {},
   "source": [
    "Let's start by loading in the dataset!"
   ]
  },
  {
   "cell_type": "code",
   "execution_count": null,
   "metadata": {
    "editable": false
   },
   "outputs": [],
   "source": [
    "# RUN THIS CELL\n",
    "officerdata <- read.csv('ps3_fl_officers_expanded.csv')\n",
    "head(officerdata)"
   ]
  },
  {
   "cell_type": "markdown",
   "metadata": {},
   "source": [
    "This dataset contains the same police traffic stop data from Week 2, but with several new variables:\n",
    "\n",
    "- `search_occur`: Whether a search was conducted (0 = no search, 1 = search)\n",
    "- `driver_age`: Categorical age groups (\"under 35\", \"between 35 and 60\", \"above 60\")\n",
    "- `driver_race`: Simplified race categories (\"White\", \"POC\", \"NA\")\n",
    "- `officer_female`: Officer gender (0 = male, 1 = female)\n",
    "- `officer_id`: Unique identifier for each officer\n",
    "- **NEW:** `arrest`: Whether an arrest was made (0 = no arrest, 1 = arrest)\n",
    "- **NEW:** `driver_age_full`: Driver's age as a number (e.g., 23, 45, 67)\n",
    "- **NEW:** `driver_race_full`: Detailed race categories (\"white\", \"black\", \"hispanic\", \"asian/pacific islander\", \"other\", \"unknown\")\n",
    "- **NEW:** `officer_sex`: Officer gender as text (\"male\", \"female\")\n",
    "- **NEW:** `officer_race`: Officer's race using the same categories as `driver_race_full`"
   ]
  },
  {
   "cell_type": "markdown",
   "metadata": {},
   "source": [
    "## Part 1: Understanding Variable Types and Classes\n",
    "\n",
    "Before we dive into analysis, it's crucial to understand what *type* of data we're working with. In R, variables have different **classes** that determine how R treats them.\n",
    "\n",
    "### The Two Main Classes We'll Focus On\n",
    "\n",
    "**Character variables** contain text. Examples:\n",
    "- Names like \"John Smith\"\n",
    "- Categories like \"male\" and \"female\"\n",
    "- Race categories like \"white\", \"black\", \"hispanic\"\n",
    "\n",
    "**Integer variables** contain whole numbers. Examples:\n",
    "- Age like 25, 43, 67\n",
    "- Counts like 0, 1, 2, 3\n",
    "- Binary indicators like 0 and 1\n",
    "\n",
    "Let's check the class of some variables in our dataset:"
   ]
  },
  {
   "cell_type": "code",
   "execution_count": null,
   "metadata": {},
   "outputs": [],
   "source": [
    "# Check the class of driver_age_full\n",
    "class(officerdata$driver_age_full)\n",
    "\n",
    "# Check the class of officer_sex\n",
    "class(officerdata$officer_sex)\n",
    "\n",
    "# Check the class of driver_race_full\n",
    "class(officerdata$driver_race_full)"
   ]
  },
  {
   "cell_type": "markdown",
   "metadata": {},
   "source": [
    "------\n",
    "\n",
    "**Question 1.** What class is the `arrest` variable? Use the `class()` function to find out and save your answer in the variable `arrest_class`.\n"
   ]
  },
  {
   "cell_type": "code",
   "execution_count": null,
   "metadata": {},
   "outputs": [],
   "source": [
    "arrest_class <- NULL # YOUR CODE HERE\n",
    "arrest_class"
   ]
  },
  {
   "cell_type": "markdown",
   "metadata": {},
   "source": [
    "------\n",
    "\n",
    "**Question 2.** Look at the output from `class(officerdata$officer_sex)` above. Even though `officer_female` and `officer_sex` contain the same information (just coded differently), what are their different classes?\n"
   ]
  },
  {
   "cell_type": "code",
   "execution_count": null,
   "metadata": {},
   "outputs": [],
   "source": [
    "# Check the class of officer_female\n",
    "class_officer_female <- NULL # YOUR CODE HERE\n",
    "\n",
    "# Check the class of officer_sex  \n",
    "class_officer_sex <- NULL # YOUR CODE HERE\n",
    "\n",
    "# Print both\n",
    "class_officer_female\n",
    "class_officer_sex"
   ]
  },
  {
   "cell_type": "markdown",
   "metadata": {},
   "source": [
    "### Why Does This Matter?\n",
    "\n",
    "The class of a variable determines what operations you can perform on it:\n",
    "\n",
    "- You can take the `mean()` of integer variables, but not character variables\n",
    "- You use different approaches when subsetting based on character vs. integer variables\n",
    "- Some functions expect specific classes of input\n",
    "\n",
    "For example, this works:"
   ]
  },
  {
   "cell_type": "code",
   "execution_count": null,
   "metadata": {},
   "outputs": [],
   "source": [
    "mean(officerdata$driver_age_full, na.rm = TRUE)"
   ]
  },
  {
   "cell_type": "markdown",
   "metadata": {},
   "source": [
    "But this doesn't work:"
   ]
  },
  {
   "cell_type": "code",
   "execution_count": null,
   "metadata": {},
   "outputs": [],
   "source": [
    "# This will give an error!\n",
    "# mean(officerdata$officer_sex)  # Error!"
   ]
  },
  {
   "cell_type": "markdown",
   "metadata": {},
   "source": [
    "## Part 2: Function Anatomy - Understanding `subset()`\n",
    "\n",
    "The `subset()` function is one of the most important tools for data analysis. Let's break down exactly how it works.\n",
    "\n",
    "### General Structure\n",
    "```r\n",
    "subset(dataset, condition)\n",
    "```\n",
    "\n",
    "### The Parts\n",
    "1. **Function name**: `subset`\n",
    "2. **First argument**: The dataset you want to filter\n",
    "3. **Second argument**: A logical condition that evaluates to TRUE or FALSE for each row\n",
    "\n",
    "### The Logic Behind `subset(dataset, variable == value)`\n",
    "\n",
    "When you write something like:\n",
    "```r\n",
    "subset(officerdata, officer_sex == \"female\")\n",
    "```\n",
    "\n",
    "Here's what happens step by step:\n",
    "\n",
    "1. R looks at every row in `officerdata`\n",
    "2. For each row, R checks: \"Is the value in `officer_sex` equal to 'female'?\"\n",
    "3. This creates a TRUE/FALSE answer for every row\n",
    "4. `subset()` keeps only the rows where the answer is TRUE\n",
    "\n",
    "### Important Notes About the `==` Operator\n",
    "\n",
    "- `==` asks \"is this equal to that?\"\n",
    "- `=` is used for assignment (like `x = 5`)\n",
    "- **Always use `==` when checking equality in conditions**\n",
    "\n",
    "For character variables, you need quotes:\n",
    "```r\n",
    "subset(officerdata, officer_sex == \"female\")  # Correct\n",
    "subset(officerdata, officer_sex == female)    # Error!\n",
    "```\n",
    "\n",
    "For integer variables, no quotes:\n",
    "```r\n",
    "subset(officerdata, officer_female == 1)      # Correct\n",
    "subset(officerdata, officer_female == \"1\")    # This works but is not ideal\n",
    "```"
   ]
  },
  {
   "cell_type": "markdown",
   "metadata": {},
   "source": [
    "------\n",
    "\n",
    "**Question 3.** Using the `subset()` function, create a subset of `officerdata` containing only cases where the driver's race (`driver_race_full`) is \"black\". Save this in `black_drivers`.\n"
   ]
  },
  {
   "cell_type": "code",
   "execution_count": null,
   "metadata": {},
   "outputs": [],
   "source": [
    "black_drivers <- NULL # YOUR CODE HERE\n",
    "head(black_drivers)"
   ]
  },
  {
   "cell_type": "markdown",
   "metadata": {},
   "source": [
    "------\n",
    "\n",
    "**Question 4.** Create a subset containing only cases where the driver's age (`driver_age_full`) is exactly 25. Save this in `age_25_drivers`.\n"
   ]
  },
  {
   "cell_type": "code",
   "execution_count": null,
   "metadata": {},
   "outputs": [],
   "source": [
    "age_25_drivers <- NULL # YOUR CODE HERE\n",
    "head(age_25_drivers)"
   ]
  },
  {
   "cell_type": "markdown",
   "metadata": {},
   "source": [
    "------\n",
    "\n",
    "**Question 5.** What's wrong with this code? Fix it and save the corrected subset in `female_officers_fixed`.\n",
    "\n",
    "```r\n",
    "# This code has an error:\n",
    "# female_officers_broken <- subset(officerdata, officer_sex = \"female\")\n",
    "```\n"
   ]
  },
  {
   "cell_type": "code",
   "execution_count": null,
   "metadata": {},
   "outputs": [],
   "source": [
    "female_officers_fixed <- NULL # YOUR CODE HERE\n",
    "head(female_officers_fixed)"
   ]
  },
  {
   "cell_type": "markdown",
   "metadata": {},
   "source": [
    "## Part 3: Review of Core Skills\n",
    "\n",
    "Now let's practice the analysis skills you've learned, using the expanded dataset."
   ]
  },
  {
   "cell_type": "markdown",
   "metadata": {},
   "source": [
    "------\n",
    "\n",
    "**Question 6.** Among all traffic stops involving Hispanic drivers, what proportion resulted in an arrest? Save your answer in `hispanic_arrest_rate`.\n"
   ]
  },
  {
   "cell_type": "code",
   "execution_count": null,
   "metadata": {},
   "outputs": [],
   "source": [
    "hispanic_subset <- NULL # YOUR CODE HERE\n",
    "hispanic_arrest_rate <- NULL # YOUR CODE HERE\n",
    "hispanic_arrest_rate * 100  # Display as percentage"
   ]
  },
  {
   "cell_type": "markdown",
   "metadata": {},
   "source": [
    "------\n",
    "\n",
    "**Question 7.** Create a one-way table showing how many stops were conducted by officers of each race. Save this table in `officer_race_table`.\n"
   ]
  },
  {
   "cell_type": "code",
   "execution_count": null,
   "metadata": {},
   "outputs": [],
   "source": [
    "officer_race_table <- NULL # YOUR CODE HERE\n",
    "officer_race_table"
   ]
  },
  {
   "cell_type": "markdown",
   "metadata": {},
   "source": [
    "------\n",
    "\n",
    "**Question 8.** Create a two-way table showing the relationship between driver race (`driver_race_full`) and whether an arrest occurred (`arrest`). Put driver race along the rows and arrest along the columns. Save this in `race_arrest_table`.\n"
   ]
  },
  {
   "cell_type": "code",
   "execution_count": null,
   "metadata": {},
   "outputs": [],
   "source": [
    "race_arrest_table <- NULL # YOUR CODE HERE\n",
    "race_arrest_table"
   ]
  },
  {
   "cell_type": "markdown",
   "metadata": {},
   "source": [
    "------\n",
    "\n",
    "**Question 9.** Among stops involving white officers and black drivers, what proportion resulted in a search? You'll need to create a subset with two conditions, then calculate the mean of `search_occur`.\n",
    "\n",
    "**Hint:** To subset with multiple conditions, use the `&` operator:\n",
    "```r\n",
    "subset(dataset, condition1 & condition2)\n",
    "```\n"
   ]
  },
  {
   "cell_type": "code",
   "execution_count": null,
   "metadata": {},
   "outputs": [],
   "source": [
    "white_officer_black_driver <- NULL # YOUR CODE HERE\n",
    "white_officer_black_driver_search_rate <- NULL # YOUR CODE HERE\n",
    "white_officer_black_driver_search_rate * 100  # Display as percentage"
   ]
  }
 ],
 "metadata": {
  "kernelspec": {
   "display_name": "R",
   "language": "R",
   "name": "ir"
  },
  "language_info": {
   "codemirror_mode": "r",
   "file_extension": ".r",
   "mimetype": "text/x-r-source",
   "name": "R",
   "pygments_lexer": "r",
   "version": "4.4.2"
  },
  "latex_envs": {
   "LaTeX_envs_menu_present": true,
   "autoclose": false,
   "autocomplete": true,
   "bibliofile": "biblio.bib",
   "cite_by": "apalike",
   "current_citInitial": 1,
   "eqLabelWithNumbers": true,
   "eqNumInitial": 1,
   "hotkeys": {
    "equation": "Ctrl-E",
    "itemize": "Ctrl-I"
   },
   "labels_anchors": false,
   "latex_user_defs": false,
   "report_style_numbering": false,
   "user_envs_cfg": false
  }
 },
 "nbformat": 4,
 "nbformat_minor": 4
}